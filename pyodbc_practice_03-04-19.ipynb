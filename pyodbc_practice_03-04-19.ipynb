{
 "cells": [
  {
   "cell_type": "code",
   "execution_count": 1,
   "metadata": {},
   "outputs": [],
   "source": [
    "import pyodbc # Need to create a connection to my database with this."
   ]
  },
  {
   "cell_type": "code",
   "execution_count": 2,
   "metadata": {},
   "outputs": [],
   "source": [
    "import pandas as pd # Handle my data"
   ]
  },
  {
   "cell_type": "code",
   "execution_count": 3,
   "metadata": {},
   "outputs": [],
   "source": [
    "import matplotlib.pyplot as plt"
   ]
  },
  {
   "cell_type": "code",
   "execution_count": 4,
   "metadata": {},
   "outputs": [],
   "source": [
    "sqlCnxn = pyodbc.connect(\n",
    "    'DRIVER={ODBC Driver 13 for SQL Server};'\n",
    "    'SERVER=localhost;'\n",
    "    'DATABASE=AdventureWorks2017;'\n",
    "    'Trusted_Connection=yes;'\n",
    ")"
   ]
  },
  {
   "cell_type": "code",
   "execution_count": 5,
   "metadata": {},
   "outputs": [],
   "source": [
    "salesData = pd.read_sql( # Extracted the year in the query, not sure how to do it in pandas.\n",
    "    \"\"\"\n",
    "    SELECT \n",
    "        YEAR(Sales.SalesOrderHeader.OrderDate) AS OrderYear \n",
    "        , Person.CountryRegion.Name AS Country\n",
    "        , Sales.SalesOrderHeader.TotalDue AS LnTotal\n",
    "    FROM\n",
    "        Sales.SalesOrderHeader INNER JOIN Sales.SalesTerritory\n",
    "            ON Sales.SalesOrderHeader.TerritoryID = Sales.SalesTerritory.TerritoryID \n",
    "        INNER JOIN Person.CountryRegion \n",
    "            ON Sales.SalesTerritory.CountryRegionCode = Person.CountryRegion.CountryRegionCode\n",
    "    \"\"\", sqlCnxn\n",
    ")"
   ]
  },
  {
   "cell_type": "code",
   "execution_count": 6,
   "metadata": {},
   "outputs": [
    {
     "name": "stdout",
     "output_type": "stream",
     "text": [
      "   OrderYear        Country     LnTotal\n",
      "0       2011  United States  23153.2339\n",
      "1       2011  United States   1457.3288\n",
      "2       2011         Canada  36865.8012\n"
     ]
    }
   ],
   "source": [
    "print(salesData.head(n=3)) # Works? Yes."
   ]
  },
  {
   "cell_type": "code",
   "execution_count": 7,
   "metadata": {},
   "outputs": [
    {
     "name": "stdout",
     "output_type": "stream",
     "text": [
      "(31465, 3)\n"
     ]
    }
   ],
   "source": [
    "print(salesData.shape) # lot of rows"
   ]
  },
  {
   "cell_type": "code",
   "execution_count": 8,
   "metadata": {},
   "outputs": [],
   "source": [
    "SalesGrpd = salesData.groupby(['OrderYear', 'Country'])['LnTotal'].sum() # Grouped by year and Country, \n",
    "                                                                         # Sum() passed to LineTotal"
   ]
  },
  {
   "cell_type": "code",
   "execution_count": 9,
   "metadata": {},
   "outputs": [
    {
     "name": "stdout",
     "output_type": "stream",
     "text": [
      "OrderYear  Country       \n",
      "2011       Australia         1.693033e+06\n",
      "           Canada            2.106906e+06\n",
      "           France            2.362686e+05\n",
      "           Germany           2.727809e+05\n",
      "           United Kingdom    4.009919e+05\n",
      "Name: LnTotal, dtype: float64\n"
     ]
    }
   ],
   "source": [
    "print(SalesGrpd.head()) # Works"
   ]
  },
  {
   "cell_type": "code",
   "execution_count": 10,
   "metadata": {
    "scrolled": true
   },
   "outputs": [
    {
     "data": {
      "image/png": "[encoded data removed]",
      "text/plain": [
       "<Figure size 432x288 with 1 Axes>"
      ]
     },
     "metadata": {
      "needs_background": "light"
     },
     "output_type": "display_data"
    }
   ],
   "source": [
    "SalesGrpd.plot(kind='bar') # Bar chart for comparison, not the best plot I've done but it works\n",
    "plt.savefig('C:/Users/river/OneDrive/Desktop/SalesByCountry_rpt1') # Not a great pic, how to fix? Something to look into.\n",
    "plt.show()"
   ]
  }
 ],
 "metadata": {
  "kernelspec": {
   "display_name": "Python 3",
   "language": "python",
   "name": "python3"
  },
  "language_info": {
   "codemirror_mode": {
    "name": "ipython",
    "version": 3
   },
   "file_extension": ".py",
   "mimetype": "text/x-python",
   "name": "python",
   "nbconvert_exporter": "python",
   "pygments_lexer": "ipython3",
   "version": "3.7.2"
  }
 },
 "nbformat": 4,
 "nbformat_minor": 2
}
