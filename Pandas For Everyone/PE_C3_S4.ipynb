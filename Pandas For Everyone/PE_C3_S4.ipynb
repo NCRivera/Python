{
 "cells": [
  {
   "cell_type": "code",
   "execution_count": null,
   "metadata": {},
   "outputs": [],
   "source": [
    "import matplotlib.pyplot as plt\n",
    "import seaborn as sns\n",
    "tips = sns.load_dataset(\"tips\")\n",
    "anscombe = sns.load_dataset(\"anscombe\")"
   ]
  },
  {
   "cell_type": "code",
   "execution_count": null,
   "metadata": {},
   "outputs": [],
   "source": [
    "# Histogram plots using Seaborn\n",
    "hist, ax = plt.subplots()"
   ]
  },
  {
   "cell_type": "code",
   "execution_count": null,
   "metadata": {},
   "outputs": [],
   "source": [
    "ax = sns.distplot(tips['total_bill']) # Histogram + density plot = dist plot\n",
    "ax.set_title('Total Bill Histogram with Density Plot')\n",
    "plt.show()"
   ]
  },
  {
   "cell_type": "code",
   "execution_count": null,
   "metadata": {},
   "outputs": [],
   "source": [
    "hist, ax = plt.subplots() # repeat of the previous plot minus density plot\n",
    "ax = sns.distplot(tips['total_bill'], kde=False) # kernel density plot\n",
    "ax.set_title('Total Bill Histogram')\n",
    "ax.set_xlabel('Total Bill')\n",
    "ax.set_ylabel('Frequency')\n",
    "plt.show()"
   ]
  },
  {
   "cell_type": "code",
   "execution_count": null,
   "metadata": {},
   "outputs": [],
   "source": [
    "den, ax = plt.subplots() # Kernel Density Estimation\n",
    "ax = sns.distplot(tips['total_bill'], hist=False) # Same as previous but hist argument is False.\n",
    "ax.set_title('Total Bill Histogram')\n",
    "ax.set_xlabel('Total Bill')\n",
    "ax.set_ylabel('Unit Probability')\n",
    "plt.show()"
   ]
  },
  {
   "cell_type": "code",
   "execution_count": null,
   "metadata": {},
   "outputs": [],
   "source": [
    "dens, ax = plt.subplots() # Kernel Density Estimation\n",
    "ax = sns.kdeplot(tips['total_bill']) # Like previous but kdeplot function.\n",
    "ax.set_title('Total Bill Histogram')\n",
    "ax.set_xlabel('Total Bill')\n",
    "ax.set_ylabel('Unit Probability')\n",
    "plt.show()"
   ]
  },
  {
   "cell_type": "code",
   "execution_count": null,
   "metadata": {},
   "outputs": [],
   "source": [
    "HistDenRug, ax = plt.subplots()\n",
    "ax = sns.distplot(tips['total_bill'], rug=True) # Get the rug plot by making the 'rug' arg True\n",
    "ax.set_title('Total Bill Histogram with Densityand Rug Plot')\n",
    "ax.set_xlabel('Total Bill')\n",
    "plt.show()"
   ]
  },
  {
   "cell_type": "code",
   "execution_count": null,
   "metadata": {},
   "outputs": [],
   "source": [
    "count, ax = plt.subplots() # bar plot\n",
    "ax = sns.countplot('day', data=tips)\n",
    "ax.set_title('Count of Days')\n",
    "ax.set_xlabel('Day of the Week')\n",
    "ax.set_ylabel('Frequency')\n",
    "plt.show()"
   ]
  },
  {
   "cell_type": "code",
   "execution_count": null,
   "metadata": {},
   "outputs": [],
   "source": [
    "# Scatterplot\n",
    "scatter, ax = plt.subplots()\n",
    "ax = sns.regplot(x='total_bill', y='tip', data=tips)\n",
    "ax.set_title('Scatterplot of Total Bill')\n",
    "ax.set_xlabel('Total Bill')\n",
    "ax.set_ylabel('Tip')\n",
    "plt.show()"
   ]
  },
  {
   "cell_type": "code",
   "execution_count": null,
   "metadata": {},
   "outputs": [],
   "source": [
    "fig = sns.lmplot(x='total_bill', y='tip', data=tips) # lmplot creates a scatterplot, creates a figure, not axes\n",
    "plt.show()"
   ]
  },
  {
   "cell_type": "code",
   "execution_count": null,
   "metadata": {},
   "outputs": [],
   "source": [
    "joint = sns.jointplot(x='total_bill', y='tip', data=tips)\n",
    "joint.set_axis_labels(xlabel='Total Bill', ylabel='Tip')\n",
    "joint.fig.suptitle('Joint Plot of Total Bill and Tip', \n",
    "                   fontsize=10, y=1.03)\n",
    "plt.show()"
   ]
  },
  {
   "cell_type": "code",
   "execution_count": null,
   "metadata": {},
   "outputs": [],
   "source": [
    "hexbin = sns.jointplot(x=\"total_bill\", y=\"tip\", data=tips, kind=\"hex\")\n",
    "hexbin.set_axis_labels(xlabel='Total Bill', ylabel='Tip')\n",
    "hexbin.fig.suptitle('Hexbin Joint Plot of Total Bill and Tip',\n",
    "                   fontsize=10, y=1.03)\n",
    "plt.show()"
   ]
  },
  {
   "cell_type": "code",
   "execution_count": null,
   "metadata": {},
   "outputs": [],
   "source": [
    "kde, ax = plt.subplots()\n",
    "ax = sns.kdeplot(data=tips['total_bill'], \n",
    "                 data2=tips['tip'], \n",
    "                 shade=True)\n",
    "ax.set_title('Kernel Density Plot of Total Bill')\n",
    "ax.set_xlabel('Total Bill')\n",
    "ax.set_ylabel('Tip')\n",
    "plt.show()"
   ]
  },
  {
   "cell_type": "code",
   "execution_count": null,
   "metadata": {},
   "outputs": [],
   "source": [
    "kde_joint = sns.jointplot(x='total_bill', y='tip',\n",
    "                         data=tips, kind='kde')"
   ]
  },
  {
   "cell_type": "code",
   "execution_count": null,
   "metadata": {},
   "outputs": [],
   "source": [
    "import numpy\n",
    "# bar plot\n",
    "bar, ax = plt.subplots()\n",
    "ax = sns.barplot(x='time', y='total_bill', data=tips)\n",
    "ax.set_title('Bar Plot of Average Total Bill for Time of Day')\n",
    "ax.set_xlabel('Time of Day')\n",
    "ax.set_ylabel('Average Total Bill')\n",
    "plt.show()"
   ]
  },
  {
   "cell_type": "code",
   "execution_count": null,
   "metadata": {},
   "outputs": [],
   "source": [
    "# A boxplot shows multiple statistics:\n",
    "## the minimum, first quartile, median, third quartile, maximum, outliers based on the interquartile range. \n",
    "## 'Y' parameter is optional. Omitted y-parameter, the plotting function will create a single box in the plot.\n",
    "\n",
    "box, ax = plt.subplots()\n",
    "ax = sns.boxplot(x='time', y='total_bill', data=tips)\n",
    "ax.set_title('Boxplot of Total Bill by Time of Day')\n",
    "ax.set_xlabel('Time of Day')\n",
    "ax.set_ylabel('Total Bill')\n",
    "plt.show()"
   ]
  },
  {
   "cell_type": "code",
   "execution_count": null,
   "metadata": {},
   "outputs": [],
   "source": [
    "# 3.4 Violin Plot\n",
    "## Violin plots show the same values as a boxplot, but plot the “boxes” as a kernel density estimation.\n",
    "\n",
    "violin, ax = plt.subplots()\n",
    "ax = sns.violinplot(x='time', y='total_bill', data=tips)\n",
    "ax.set_title('Violin Plot of Total Bill by Time of Day')\n",
    "ax.set_xlabel('Time of Day')\n",
    "ax.set_ylabel('Total Bill')\n",
    "plt.show()"
   ]
  },
  {
   "cell_type": "code",
   "execution_count": null,
   "metadata": {},
   "outputs": [],
   "source": [
    "fig = sns.pairplot(tips)\n",
    "pair_grid = sns.PairGrid(tips)\n",
    "pair_grid = pair_grid.map_upper(sns.regplot)\n",
    "pair_grid = pair_grid.map_lower(sns.kdeplot)\n",
    "pair_grid = pair_grid.map_diag(sns.distplot, rug=True)\n",
    "plt.show()"
   ]
  },
  {
   "cell_type": "code",
   "execution_count": null,
   "metadata": {},
   "outputs": [],
   "source": [
    "violin, ax = plt.subplots()\n",
    "ax = sns.violinplot(x='time', y='total_bill',\n",
    "                   hue='sex', data=tips,\n",
    "                   split=True)\n",
    "plt.show()"
   ]
  },
  {
   "cell_type": "code",
   "execution_count": null,
   "metadata": {},
   "outputs": [],
   "source": [
    "scatter = sns.lmplot(x='total_bill', y='tip', data=tips,\n",
    "                    hue='sex', fit_reg=False)\n",
    "plt.show()"
   ]
  },
  {
   "cell_type": "code",
   "execution_count": null,
   "metadata": {},
   "outputs": [],
   "source": [
    "fig = sns.pairplot(tips, hue='sex')"
   ]
  },
  {
   "cell_type": "code",
   "execution_count": null,
   "metadata": {},
   "outputs": [],
   "source": [
    "scatter = sns.lmplot(x='total_bill', y='tip', data=tips, \n",
    "                    fit_reg=False, \n",
    "                    hue='sex', \n",
    "                    scatter_kws={'s': tips['size']*10})\n",
    "plt.show()"
   ]
  },
  {
   "cell_type": "code",
   "execution_count": null,
   "metadata": {},
   "outputs": [],
   "source": [
    "scatter = sns.lmplot(x='total_bill', y='tip', data=tips, \n",
    "                    fit_reg=False, hue='sex', markers=['o', 'x'], \n",
    "                    scatter_kws={'s': tips['size'] * 10})\n",
    "plt.show()"
   ]
  },
  {
   "cell_type": "code",
   "execution_count": null,
   "metadata": {},
   "outputs": [],
   "source": [
    "anscombe_plot = sns.lmplot(x='x', y='y', data=anscombe,\n",
    "                          fit_reg=False, \n",
    "                          col='dataset', col_wrap=2)"
   ]
  },
  {
   "cell_type": "code",
   "execution_count": null,
   "metadata": {},
   "outputs": [],
   "source": [
    "facet = sns.FacetGrid(tips, col='time')\n",
    "facet.map(sns.distplot, 'total_bill', rug=True)\n",
    "plt.show()"
   ]
  },
  {
   "cell_type": "code",
   "execution_count": null,
   "metadata": {},
   "outputs": [],
   "source": [
    "facet = sns.FacetGrid(tips, col='day', hue='sex')\n",
    "facet = facet.map(plt.scatter, 'total_bill', 'tip')\n",
    "facet = facet.add_legend()\n",
    "plt.show()"
   ]
  },
  {
   "cell_type": "code",
   "execution_count": null,
   "metadata": {},
   "outputs": [],
   "source": [
    "fig = sns.lmplot(x='total_bill', y='tip', data=tips, fit_reg=False, \n",
    "                 hue='sex', col='day')\n",
    "plt.show()"
   ]
  },
  {
   "cell_type": "code",
   "execution_count": null,
   "metadata": {},
   "outputs": [],
   "source": [
    "facet = sns.FacetGrid(tips, col='time', row='smoker', hue='sex')\n",
    "facet.map(plt.scatter, 'total_bill', 'tip')\n",
    "plt.show()"
   ]
  },
  {
   "cell_type": "code",
   "execution_count": null,
   "metadata": {},
   "outputs": [],
   "source": [
    "facet = sns.catplot(x='day', y='total_bill', hue='sex', data=tips,\n",
    "                      row='smoker', col='time', kind='violin')"
   ]
  }
 ],
 "metadata": {
  "kernelspec": {
   "display_name": "Python 3",
   "language": "python",
   "name": "python3"
  },
  "language_info": {
   "codemirror_mode": {
    "name": "ipython",
    "version": 3
   },
   "file_extension": ".py",
   "mimetype": "text/x-python",
   "name": "python",
   "nbconvert_exporter": "python",
   "pygments_lexer": "ipython3",
   "version": "3.7.0"
  }
 },
 "nbformat": 4,
 "nbformat_minor": 2
}
