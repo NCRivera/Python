{
 "cells": [
  {
   "cell_type": "code",
   "execution_count": 1,
   "metadata": {},
   "outputs": [],
   "source": [
    "import pandas as pd"
   ]
  },
  {
   "cell_type": "code",
   "execution_count": 2,
   "metadata": {},
   "outputs": [
    {
     "name": "stdout",
     "output_type": "stream",
     "text": [
      "0    bananas\n",
      "1         42\n",
      "dtype: object\n"
     ]
    }
   ],
   "source": [
    "# Creating a Series, 1-dimensional container. \n",
    "s = pd.Series(['bananas', 42]) # Mixed data types\n",
    "print(s) # Object dtype as result"
   ]
  },
  {
   "cell_type": "code",
   "execution_count": 3,
   "metadata": {},
   "outputs": [
    {
     "name": "stdout",
     "output_type": "stream",
     "text": [
      "Person         Wes McKinney\n",
      "Who       Creator of Pandas\n",
      "dtype: object\n"
     ]
    }
   ],
   "source": [
    "# Assigning index values.\n",
    "s = pd.Series(['Wes McKinney', 'Creator of Pandas'], \n",
    "             index = ['Person', 'Who'])\n",
    "print(s)"
   ]
  },
  {
   "cell_type": "code",
   "execution_count": 4,
   "metadata": {},
   "outputs": [
    {
     "name": "stdout",
     "output_type": "stream",
     "text": [
      "Person         Wes McKinney\n",
      "Who       Creator of Pandas\n",
      "dtype: object\n"
     ]
    }
   ],
   "source": [
    "# Do other containers types work? Tuple\n",
    "s = pd.Series(('Wes McKinney', 'Creator of Pandas'),\n",
    "             index = ('Person', 'Who'))\n",
    "print(s)"
   ]
  },
  {
   "cell_type": "code",
   "execution_count": 5,
   "metadata": {},
   "outputs": [
    {
     "name": "stdout",
     "output_type": "stream",
     "text": [
      "Person         Wes McKinney\n",
      "Who       Creator of Pandas\n",
      "dtype: object\n"
     ]
    }
   ],
   "source": [
    "dictionary = {'answer': ['Wes McKinney', 'Creator of Pandas'], \n",
    "              'ind': ['Person', 'Who']}\n",
    "# Do other containers types work? Dictionary\n",
    "s = pd.Series(dictionary['answer'],\n",
    "             index = dictionary['ind'])\n",
    "print(s) "
   ]
  },
  {
   "cell_type": "code",
   "execution_count": 6,
   "metadata": {},
   "outputs": [
    {
     "name": "stdout",
     "output_type": "stream",
     "text": [
      "Person         Wes McKinney\n",
      "Who       Creator of Pandas\n",
      "dtype: object\n"
     ]
    }
   ],
   "source": [
    "import numpy as np\n",
    "arr1 = np.char.array(['Wes McKinney', 'Creator of Pandas'])\n",
    "arr2 = np.char.array(['Person', 'Who'])\n",
    "\n",
    "# Do other containers types work? array (character) from NumPy\n",
    "s = pd.Series(arr1,\n",
    "             index = arr2)\n",
    "print(s) "
   ]
  },
  {
   "cell_type": "code",
   "execution_count": 7,
   "metadata": {},
   "outputs": [
    {
     "name": "stdout",
     "output_type": "stream",
     "text": [
      "                Name    Occupation        Born        Died  Age\n",
      "0  Rosaline Franklin       Chemist  1920-07-25  1958-04-16   37\n",
      "1    William Gossett  Statistician  1876-06-13  1937-10-16   61\n"
     ]
    }
   ],
   "source": [
    "# Dictionry is a good way to create a DataFrame. Each dictionary key corresponds to an colname.\n",
    "scientists = pd.DataFrame({'Name': ['Rosaline Franklin', 'William Gossett'],\n",
    "                           'Occupation': ['Chemist', 'Statistician'],\n",
    "                           'Born': ['1920-07-25', '1876-06-13'],\n",
    "                           'Died': ['1958-04-16', '1937-10-16'],\n",
    "                           'Age': [37, 61]})\n",
    "print(scientists) # Order is not guranteed, dictionaries are not ordered."
   ]
  },
  {
   "cell_type": "code",
   "execution_count": 8,
   "metadata": {},
   "outputs": [
    {
     "name": "stdout",
     "output_type": "stream",
     "text": [
      "                     Occupation  Age        Born        Died\n",
      "Rosaline Franklin       Chemist   37  1920-07-25  1958-04-16\n",
      "William Gossett    Statistician   61  1876-06-13  1937-10-16\n"
     ]
    }
   ],
   "source": [
    "# Specify colname and index\n",
    "scientists = pd.DataFrame(\n",
    "    data = {'Occupation': ['Chemist', 'Statistician'],\n",
    "            'Born': ['1920-07-25', '1876-06-13'],\n",
    "            'Died': ['1958-04-16', '1937-10-16'],\n",
    "            'Age': [37, 61]},\n",
    "    index=['Rosaline Franklin', 'William Gossett'],\n",
    "    columns=['Occupation', 'Age', 'Born', 'Died']\n",
    ")\n",
    "print(scientists)"
   ]
  },
  {
   "cell_type": "code",
   "execution_count": 9,
   "metadata": {},
   "outputs": [
    {
     "name": "stdout",
     "output_type": "stream",
     "text": [
      "                Name    Occupation        Born        Died  Age\n",
      "0  Rosaline Franklin       Chemist  1920-07-25  1958-04-16   37\n",
      "1    William Gossett  Statistician  1876-06-13  1937-10-16   61\n"
     ]
    }
   ],
   "source": [
    "# Gurantee dictionary order using OrderedDict\n",
    "from collections import OrderedDict\n",
    "scientists = pd.DataFrame(OrderedDict([\n",
    "    ('Name', ['Rosaline Franklin', 'William Gossett']),\n",
    "    ('Occupation', ['Chemist', 'Statistician']),\n",
    "    ('Born', ['1920-07-25', '1876-06-13']),\n",
    "    ('Died', ['1958-04-16', '1937-10-16']),\n",
    "    ('Age', [37, 61])\n",
    "    ])\n",
    ")\n",
    "print(scientists)"
   ]
  }
 ],
 "metadata": {
  "kernelspec": {
   "display_name": "Python 3",
   "language": "python",
   "name": "python3"
  },
  "language_info": {
   "codemirror_mode": {
    "name": "ipython",
    "version": 3
   },
   "file_extension": ".py",
   "mimetype": "text/x-python",
   "name": "python",
   "nbconvert_exporter": "python",
   "pygments_lexer": "ipython3",
   "version": "3.7.0"
  }
 },
 "nbformat": 4,
 "nbformat_minor": 2
}
