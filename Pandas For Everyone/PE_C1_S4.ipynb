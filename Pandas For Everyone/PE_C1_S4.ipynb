{
 "cells": [
  {
   "cell_type": "code",
   "execution_count": null,
   "metadata": {},
   "outputs": [],
   "source": [
    "import pandas as pd\n",
    "df = pd.read_csv('/Data/gapminder.tsv', sep='\\t')"
   ]
  },
  {
   "cell_type": "code",
   "execution_count": null,
   "metadata": {},
   "outputs": [],
   "source": [
    "# Checking the data\n",
    "print(df.head(n=10))\n",
    "\n",
    "# Question: average life expectancy, population, GDP\n",
    "# Stratify data by continent, count of countries in continents."
   ]
  },
  {
   "cell_type": "code",
   "execution_count": null,
   "metadata": {},
   "outputs": [],
   "source": [
    "# Aggregate Means\n",
    "# Split-Apply-Combine process\n",
    "print(df.groupby('year')['lifeExp'].mean())"
   ]
  },
  {
   "cell_type": "code",
   "execution_count": null,
   "metadata": {},
   "outputs": [],
   "source": [
    "# Think SQL group by clause\n",
    "grouped_year_df = df.groupby('year') # grouping the data\n",
    "print(type(grouped_year_df), end='\\n\\n')\n",
    "print(grouped_year_df, end='\\n\\n')\n",
    "\n",
    "grouped_year_df_lifeExp = grouped_year_df['lifeExp'] # I believe I have to pass some kind of \n",
    "print(grouped_year_df_lifeExp, end='\\n\\n')                       # aggregating function to return results\n",
    "\n",
    "mean_lifeExp_by_year = grouped_year_df_lifeExp.mean()\n",
    "print(mean_lifeExp_by_year) # Aggregating function on our grouped data"
   ]
  },
  {
   "cell_type": "code",
   "execution_count": null,
   "metadata": {},
   "outputs": [],
   "source": [
    "# Returning the mean on multiple columns.\n",
    "# DataFrame.groupby(<col>)[<col>].aggrFunction()\n",
    "\n",
    "multi_group_var = df.groupby(['year', 'continent'])['lifeExp', 'gdpPercap'].mean()\n",
    "print(multi_group_var)"
   ]
  },
  {
   "cell_type": "code",
   "execution_count": null,
   "metadata": {},
   "outputs": [],
   "source": [
    "# How to flatten the grouped dataframe\n",
    "# reset_index()\n",
    "flat = multi_group_var.reset_index()\n",
    "print(flat.head(10))"
   ]
  },
  {
   "cell_type": "code",
   "execution_count": null,
   "metadata": {},
   "outputs": [],
   "source": [
    "# How to count unique values in a series\n",
    "# nunique()\n",
    "print(df.groupby('continent')['country'].nunique()) # Unique counties in each continent"
   ]
  }
 ],
 "metadata": {
  "kernelspec": {
   "display_name": "Python 3",
   "language": "python",
   "name": "python3"
  },
  "language_info": {
   "codemirror_mode": {
    "name": "ipython",
    "version": 3
   },
   "file_extension": ".py",
   "mimetype": "text/x-python",
   "name": "python",
   "nbconvert_exporter": "python",
   "pygments_lexer": "ipython3",
   "version": "3.7.0"
  }
 },
 "nbformat": 4,
 "nbformat_minor": 2
}
