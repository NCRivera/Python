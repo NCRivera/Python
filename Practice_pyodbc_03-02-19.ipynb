{
 "cells": [
  {
   "cell_type": "code",
   "execution_count": 1,
   "metadata": {},
   "outputs": [],
   "source": [
    "import pyodbc"
   ]
  },
  {
   "cell_type": "code",
   "execution_count": 2,
   "metadata": {},
   "outputs": [],
   "source": [
    "sqlCnxn = pyodbc.connect(\n",
    "    \"\"\"\n",
    "    DRIVER={ODBC Driver 13 for SQL Server};\n",
    "    SERVER=localhost;\n",
    "    DATABASE=AdventureWorks2017;\n",
    "    Trusted_Connection=yes;\n",
    "    \"\"\")"
   ]
  },
  {
   "cell_type": "code",
   "execution_count": 3,
   "metadata": {},
   "outputs": [],
   "source": [
    "import pandas as pd"
   ]
  },
  {
   "cell_type": "code",
   "execution_count": 4,
   "metadata": {},
   "outputs": [],
   "source": [
    "data = pd.read_sql(\n",
    "    \"\"\"\n",
    "    SELECT TOP 1 PERCENT \n",
    "        SOH.OrderDate\n",
    "        , SOH.CustomerID\n",
    "        , SOD.OrderQty\n",
    "        , SOD.ProductID\n",
    "        , SOD.LineTotal\n",
    "    FROM \n",
    "        Sales.SalesOrderHeader SOH INNER JOIN Sales.SalesOrderDetail SOD\n",
    "            ON SOH.SalesOrderID = SOD.SalesOrderID\n",
    "    ORDER BY \n",
    "        NEWID();\n",
    "    \"\"\", sqlCnxn)"
   ]
  },
  {
   "cell_type": "code",
   "execution_count": 5,
   "metadata": {},
   "outputs": [
    {
     "name": "stdout",
     "output_type": "stream",
     "text": [
      "   OrderDate  CustomerID  OrderQty  ProductID  LineTotal\n",
      "0 2013-10-30       29864         1        864      38.10\n",
      "1 2012-03-08       14827         1        751    3578.27\n",
      "2 2014-05-07       18528         1        878      21.98\n"
     ]
    }
   ],
   "source": [
    "print(data.head(3))"
   ]
  },
  {
   "cell_type": "code",
   "execution_count": 6,
   "metadata": {},
   "outputs": [
    {
     "name": "stdout",
     "output_type": "stream",
     "text": [
      "(1214, 5)\n"
     ]
    }
   ],
   "source": [
    "print(data.shape)"
   ]
  },
  {
   "cell_type": "code",
   "execution_count": 7,
   "metadata": {},
   "outputs": [
    {
     "name": "stdout",
     "output_type": "stream",
     "text": [
      "Index(['OrderDate', 'CustomerID', 'OrderQty', 'ProductID', 'LineTotal'], dtype='object')\n"
     ]
    }
   ],
   "source": [
    "print(data.columns)"
   ]
  },
  {
   "cell_type": "code",
   "execution_count": 8,
   "metadata": {},
   "outputs": [
    {
     "name": "stdout",
     "output_type": "stream",
     "text": [
      "datetime64[ns]\n"
     ]
    }
   ],
   "source": [
    "print(data['OrderDate'].dtype)"
   ]
  },
  {
   "cell_type": "code",
   "execution_count": 9,
   "metadata": {},
   "outputs": [
    {
     "name": "stdout",
     "output_type": "stream",
     "text": [
      "<class 'pandas.core.frame.DataFrame'>\n",
      "RangeIndex: 1214 entries, 0 to 1213\n",
      "Data columns (total 5 columns):\n",
      "OrderDate     1214 non-null datetime64[ns]\n",
      "CustomerID    1214 non-null int64\n",
      "OrderQty      1214 non-null int64\n",
      "ProductID     1214 non-null int64\n",
      "LineTotal     1214 non-null float64\n",
      "dtypes: datetime64[ns](1), float64(1), int64(3)\n",
      "memory usage: 47.5 KB\n",
      "None\n"
     ]
    }
   ],
   "source": [
    "print(data.info())"
   ]
  }
 ],
 "metadata": {
  "kernelspec": {
   "display_name": "Python 3",
   "language": "python",
   "name": "python3"
  },
  "language_info": {
   "codemirror_mode": {
    "name": "ipython",
    "version": 3
   },
   "file_extension": ".py",
   "mimetype": "text/x-python",
   "name": "python",
   "nbconvert_exporter": "python",
   "pygments_lexer": "ipython3",
   "version": "3.7.2"
  }
 },
 "nbformat": 4,
 "nbformat_minor": 2
}
