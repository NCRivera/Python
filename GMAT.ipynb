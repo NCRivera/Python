{
 "cells": [
  {
   "cell_type": "markdown",
   "metadata": {},
   "source": [
    "# Analysis of Variance, One-Way.\n",
    "## Statistics Methods II - GMAT Exam Sample Data\n",
    "\n",
    "In class we are going over ANOVA using this small sample data. In class, we are using excel but I want to try to complete all of these exercises using Python Programming Language to become more familiar with it as a statistical tool."
   ]
  },
  {
   "cell_type": "markdown",
   "metadata": {},
   "source": [
    "### Importing the Tools\n",
    "After reading through a lot of examples and the documentation, I found that statsmodels and scipy are the two packages with the statistical tests I need. \n",
    "\n",
    "Pandas is needed to create the tabular formatting required."
   ]
  },
  {
   "cell_type": "code",
   "execution_count": 1,
   "metadata": {},
   "outputs": [],
   "source": [
    "import pandas as pd\n",
    "from statsmodels.formula.api import ols\n",
    "from statsmodels.stats.anova import anova_lm\n",
    "import scipy.stats as stats"
   ]
  },
  {
   "cell_type": "markdown",
   "metadata": {},
   "source": [
    "### Reading the sample data for the GMAT Scores."
   ]
  },
  {
   "cell_type": "code",
   "execution_count": 2,
   "metadata": {},
   "outputs": [
    {
     "data": {
      "text/html": [
       "<div>\n",
       "<style scoped>\n",
       "    .dataframe tbody tr th:only-of-type {\n",
       "        vertical-align: middle;\n",
       "    }\n",
       "\n",
       "    .dataframe tbody tr th {\n",
       "        vertical-align: top;\n",
       "    }\n",
       "\n",
       "    .dataframe thead th {\n",
       "        text-align: right;\n",
       "    }\n",
       "</style>\n",
       "<table border=\"1\" class=\"dataframe\">\n",
       "  <thead>\n",
       "    <tr style=\"text-align: right;\">\n",
       "      <th></th>\n",
       "      <th>Fall</th>\n",
       "      <th>Winter</th>\n",
       "      <th>Spring</th>\n",
       "      <th>Summer</th>\n",
       "    </tr>\n",
       "  </thead>\n",
       "  <tbody>\n",
       "    <tr>\n",
       "      <th>0</th>\n",
       "      <td>490</td>\n",
       "      <td>310</td>\n",
       "      <td>500</td>\n",
       "      <td>450</td>\n",
       "    </tr>\n",
       "    <tr>\n",
       "      <th>1</th>\n",
       "      <td>580</td>\n",
       "      <td>590</td>\n",
       "      <td>450</td>\n",
       "      <td>590</td>\n",
       "    </tr>\n",
       "    <tr>\n",
       "      <th>2</th>\n",
       "      <td>440</td>\n",
       "      <td>730</td>\n",
       "      <td>510</td>\n",
       "      <td>710</td>\n",
       "    </tr>\n",
       "    <tr>\n",
       "      <th>3</th>\n",
       "      <td>580</td>\n",
       "      <td>710</td>\n",
       "      <td>570</td>\n",
       "      <td>240</td>\n",
       "    </tr>\n",
       "    <tr>\n",
       "      <th>4</th>\n",
       "      <td>430</td>\n",
       "      <td>540</td>\n",
       "      <td>610</td>\n",
       "      <td>510</td>\n",
       "    </tr>\n",
       "  </tbody>\n",
       "</table>\n",
       "</div>"
      ],
      "text/plain": [
       "   Fall  Winter  Spring  Summer\n",
       "0   490     310     500     450\n",
       "1   580     590     450     590\n",
       "2   440     730     510     710\n",
       "3   580     710     570     240\n",
       "4   430     540     610     510"
      ]
     },
     "execution_count": 2,
     "metadata": {},
     "output_type": "execute_result"
    }
   ],
   "source": [
    "gmat = pd.read_csv('C:/Users/river/Data/Applied Statistics/GMAT.csv')\n",
    "gmat.head() # I believe this is the entire DF"
   ]
  },
  {
   "cell_type": "markdown",
   "metadata": {},
   "source": [
    "### Transforming the Data\n",
    "The hardest task for me to complete was to transform the data into a format that the statsmodels package could read.\n",
    "You can see in the cell above that the data is in a table format resembling a pivot table in excel, I need to first \"unpivot\" the data into only two columns, one with the values and the other with the Terms (treatments).\n",
    "\n",
    "We can complete this by using the melt() method on the Pandas.DataFrame, with the necessary arguments.\n",
    "\n",
    "I am melting the variable 'Fall', 'Winter', 'Spring', and 'Summer' down into a new column called 'Term'. I need to modify the column name that the exam scores will be under. This will be 'Data'."
   ]
  },
  {
   "cell_type": "code",
   "execution_count": 3,
   "metadata": {},
   "outputs": [],
   "source": [
    "gmat = gmat.melt(value_vars = ['Fall', 'Winter', 'Spring', 'Summer'], var_name = 'Term', value_name = 'Data')"
   ]
  },
  {
   "cell_type": "markdown",
   "metadata": {},
   "source": [
    "### Creating the ANOVA Model\n",
    "StatsModels has the OLS() method to create the ANOVA model to analyze. The formula and the data has to be passed through the function. We use the fit() method to finish the model."
   ]
  },
  {
   "cell_type": "code",
   "execution_count": 4,
   "metadata": {},
   "outputs": [],
   "source": [
    "model = ols(formula = 'Data ~ C(Term)', data = gmat).fit()"
   ]
  },
  {
   "cell_type": "markdown",
   "metadata": {},
   "source": [
    "### Model Summary\n",
    "A quick look to see what's going on inside the model I created."
   ]
  },
  {
   "cell_type": "code",
   "execution_count": 5,
   "metadata": {},
   "outputs": [
    {
     "name": "stdout",
     "output_type": "stream",
     "text": [
      "                            OLS Regression Results                            \n",
      "==============================================================================\n",
      "Dep. Variable:                   Data   R-squared:                       0.007\n",
      "Model:                            OLS   Adj. R-squared:                 -0.076\n",
      "Method:                 Least Squares   F-statistic:                   0.08713\n",
      "Date:                Sun, 26 May 2019   Prob (F-statistic):              0.967\n",
      "Time:                        17:28:09   Log-Likelihood:                -242.95\n",
      "No. Observations:                  40   AIC:                             493.9\n",
      "Df Residuals:                      36   BIC:                             500.7\n",
      "Df Model:                           3                                         \n",
      "Covariance Type:            nonrobust                                         \n",
      "=====================================================================================\n",
      "                        coef    std err          t      P>|t|      [0.025      0.975]\n",
      "-------------------------------------------------------------------------------------\n",
      "Intercept           522.0000     35.029     14.902      0.000     450.958     593.042\n",
      "C(Term)[T.Spring]    24.0000     49.538      0.484      0.631     -76.469     124.469\n",
      "C(Term)[T.Summer]    19.0000     49.538      0.384      0.704     -81.469     119.469\n",
      "C(Term)[T.Winter]    14.0000     49.538      0.283      0.779     -86.469     114.469\n",
      "==============================================================================\n",
      "Omnibus:                        2.313   Durbin-Watson:                   2.275\n",
      "Prob(Omnibus):                  0.315   Jarque-Bera (JB):                1.393\n",
      "Skew:                          -0.426   Prob(JB):                        0.498\n",
      "Kurtosis:                       3.331   Cond. No.                         4.79\n",
      "==============================================================================\n",
      "\n",
      "Warnings:\n",
      "[1] Standard Errors assume that the covariance matrix of the errors is correctly specified.\n"
     ]
    }
   ],
   "source": [
    "print(model.summary())"
   ]
  },
  {
   "cell_type": "markdown",
   "metadata": {},
   "source": [
    "### Passing the Model through the ANOVA Function\n",
    "The type argument is the type of ANOVA: \n",
    "1 = One-Way ANOVA,\n",
    "2 = Two-Way (No Replication)\n",
    "3 = Two-Way (Replication)"
   ]
  },
  {
   "cell_type": "code",
   "execution_count": 6,
   "metadata": {},
   "outputs": [],
   "source": [
    "anova_results = anova_lm(model, typ=1)"
   ]
  },
  {
   "cell_type": "code",
   "execution_count": 7,
   "metadata": {
    "scrolled": true
   },
   "outputs": [
    {
     "name": "stdout",
     "output_type": "stream",
     "text": [
      "            df    sum_sq       mean_sq         F    PR(>F)\n",
      "C(Term)    3.0    3207.5   1069.166667  0.087135  0.966644\n",
      "Residual  36.0  441730.0  12270.277778       NaN       NaN\n",
      "\n",
      "\n",
      "F-Criticial 2.86626555094018\n"
     ]
    }
   ],
   "source": [
    "print(anova_results)\n",
    "print('\\n\\nF-Criticial', stats.f.ppf(0.95, dfn=3, dfd=36))"
   ]
  },
  {
   "cell_type": "markdown",
   "metadata": {},
   "source": [
    "## Conclusion\n",
    "The null hypothesis is that all means of the treatments are equal. Based on the results we return using the statistics packages, The F Statistic is less than the F Critical value. We fail to reject the null hypothesis using the crtitcal value test.\n",
    "Another number to take note is the p-value. The confidence interval we want is 95% so the alpha is 5%. The calculated p-value in our results is 97% which means that our probablility of commiting a type I error is relatively high. Based on p-value test I fail to reject the null hypothesis."
   ]
  }
 ],
 "metadata": {
  "kernelspec": {
   "display_name": "Python 3",
   "language": "python",
   "name": "python3"
  },
  "language_info": {
   "codemirror_mode": {
    "name": "ipython",
    "version": 3
   },
   "file_extension": ".py",
   "mimetype": "text/x-python",
   "name": "python",
   "nbconvert_exporter": "python",
   "pygments_lexer": "ipython3",
   "version": "3.7.3"
  }
 },
 "nbformat": 4,
 "nbformat_minor": 2
}
