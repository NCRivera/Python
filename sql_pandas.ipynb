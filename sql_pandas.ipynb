{
 "cells": [
  {
   "cell_type": "markdown",
   "metadata": {},
   "source": [
    "# Pandas and SQL\n",
    "I was messing around the other day trying to figure out how to bring my datasets from SQL to a text file so that I could read them with the Pandas package, when I thought \"Hey, why don't I just check if there's a package for this?\"\n",
    "It turns out there is a package for this and I don't have to duplicate the data into a text file, I can just read it off of my local server in SQL! I felt a little silly as I knew about some of them, already. I had a lot of trouble using them previously as I did not have enough knowledge at the time.\n",
    "\n",
    "Another thing I realized is that when I look at Pandas in the context of a SQL query, I was able to grasp pandas a little bit easier. Ofcourse the documentation on the pandas website has a page comparing Pandas to SQL.\n",
    "\n",
    "I love when little things like this give me an \"Ah Ha\" moment."
   ]
  },
  {
   "cell_type": "code",
   "execution_count": 1,
   "metadata": {},
   "outputs": [],
   "source": [
    "import pyodbc # The package for creating a SQL connection"
   ]
  },
  {
   "cell_type": "code",
   "execution_count": 2,
   "metadata": {},
   "outputs": [],
   "source": [
    "sqlConnection = pyodbc.connect( # The connect method requires DRIVER, SERVER, DATABASE, Trusted_Connection arg.\n",
    "    'DRIVER={ODBC Driver 13 for SQL Server};'\n",
    "    'SERVER=localhost;'\n",
    "    'DATABASE=AdventureWorks2017;'\n",
    "    'Trusted_Connection=yes;')\n",
    "# I noticed that if you need to connect to another db outside your local computer, you\n",
    "# can add a user name and password string, as well."
   ]
  },
  {
   "cell_type": "code",
   "execution_count": 3,
   "metadata": {},
   "outputs": [],
   "source": [
    "import pandas as pd"
   ]
  },
  {
   "cell_type": "code",
   "execution_count": 4,
   "metadata": {},
   "outputs": [],
   "source": [
    "sampleData = pd.read_sql(\n",
    "    \"SELECT TOP 10 * FROM Sales.SalesOrderHeader;\", # First arg is a sql query, now I can get into this!\n",
    "    sqlConnection # Connection variable from above, \"pyodbc.connect()\"\n",
    ")"
   ]
  },
  {
   "cell_type": "code",
   "execution_count": 5,
   "metadata": {},
   "outputs": [
    {
     "name": "stdout",
     "output_type": "stream",
     "text": [
      "Index(['SalesOrderID', 'RevisionNumber', 'OrderDate', 'DueDate', 'ShipDate',\n",
      "       'Status', 'OnlineOrderFlag', 'SalesOrderNumber', 'PurchaseOrderNumber',\n",
      "       'AccountNumber', 'CustomerID', 'SalesPersonID', 'TerritoryID',\n",
      "       'BillToAddressID', 'ShipToAddressID', 'ShipMethodID', 'CreditCardID',\n",
      "       'CreditCardApprovalCode', 'CurrencyRateID', 'SubTotal', 'TaxAmt',\n",
      "       'Freight', 'TotalDue', 'Comment', 'rowguid', 'ModifiedDate'],\n",
      "      dtype='object')\n"
     ]
    }
   ],
   "source": [
    "print(sampleData.columns)"
   ]
  },
  {
   "cell_type": "code",
   "execution_count": 6,
   "metadata": {},
   "outputs": [
    {
     "name": "stdout",
     "output_type": "stream",
     "text": [
      "   SalesOrderID  RevisionNumber  OrderDate    DueDate   ShipDate  Status  \\\n",
      "0         43659               8 2011-05-31 2011-06-12 2011-06-07       5   \n",
      "1         43660               8 2011-05-31 2011-06-12 2011-06-07       5   \n",
      "2         43661               8 2011-05-31 2011-06-12 2011-06-07       5   \n",
      "\n",
      "   OnlineOrderFlag SalesOrderNumber PurchaseOrderNumber   AccountNumber  ...  \\\n",
      "0            False          SO43659         PO522145787  10-4020-000676  ...   \n",
      "1            False          SO43660       PO18850127500  10-4020-000117  ...   \n",
      "2            False          SO43661       PO18473189620  10-4020-000442  ...   \n",
      "\n",
      "   CreditCardID  CreditCardApprovalCode  CurrencyRateID    SubTotal  \\\n",
      "0         16281           105041Vi84182             NaN  20565.6206   \n",
      "1          5618           115213Vi29411             NaN   1294.2529   \n",
      "2          1346             85274Vi6854             4.0  32726.4786   \n",
      "\n",
      "      TaxAmt   Freight    TotalDue Comment  \\\n",
      "0  1971.5149  616.0984  23153.2339    None   \n",
      "1   124.2483   38.8276   1457.3288    None   \n",
      "2  3153.7696  985.5530  36865.8012    None   \n",
      "\n",
      "                                rowguid  ModifiedDate  \n",
      "0  79B65321-39CA-4115-9CBA-8FE0903E12E6    2011-06-07  \n",
      "1  738DC42D-D03B-48A1-9822-F95A67EA7389    2011-06-07  \n",
      "2  D91B9131-18A4-4A11-BC3A-90B6F53E9D74    2011-06-07  \n",
      "\n",
      "[3 rows x 26 columns]\n"
     ]
    }
   ],
   "source": [
    "print(sampleData.head(n=3))"
   ]
  },
  {
   "cell_type": "code",
   "execution_count": 8,
   "metadata": {
    "scrolled": true
   },
   "outputs": [
    {
     "name": "stdout",
     "output_type": "stream",
     "text": [
      "OrderDate\n",
      "2011-05-31    5100.0502\n",
      "Name: Freight, dtype: float64\n"
     ]
    }
   ],
   "source": [
    "print(sampleData.groupby('OrderDate')['Freight'].sum()) # God, I love pandas documentation!"
   ]
  },
  {
   "cell_type": "code",
   "execution_count": 9,
   "metadata": {},
   "outputs": [
    {
     "name": "stdout",
     "output_type": "stream",
     "text": [
      "   OrderDate    Freight\n",
      "0 2011-05-31   616.0984\n",
      "1 2011-05-31    38.8276\n",
      "2 2011-05-31   985.5530\n",
      "3 2011-05-31   867.2389\n",
      "4 2011-05-31    12.5838\n",
      "5 2011-05-31   732.8100\n",
      "6 2011-05-31   429.9821\n",
      "7 2011-05-31   151.9921\n",
      "8 2011-05-31   183.1626\n",
      "9 2011-05-31  1081.8017\n"
     ]
    }
   ],
   "source": [
    "print(sampleData.loc[:, ['OrderDate', 'Freight']])"
   ]
  },
  {
   "cell_type": "code",
   "execution_count": 10,
   "metadata": {},
   "outputs": [
    {
     "name": "stdout",
     "output_type": "stream",
     "text": [
      "           Freight\n",
      "count    10.000000\n",
      "mean    510.005020\n",
      "std     401.725466\n",
      "min      12.583800\n",
      "25%     159.784725\n",
      "50%     523.040250\n",
      "75%     833.631675\n",
      "max    1081.801700\n"
     ]
    }
   ],
   "source": [
    "print(sampleData.loc[:, ['OrderDate', 'Freight']].describe())"
   ]
  }
 ],
 "metadata": {
  "kernelspec": {
   "display_name": "Python 3",
   "language": "python",
   "name": "python3"
  },
  "language_info": {
   "codemirror_mode": {
    "name": "ipython",
    "version": 3
   },
   "file_extension": ".py",
   "mimetype": "text/x-python",
   "name": "python",
   "nbconvert_exporter": "python",
   "pygments_lexer": "ipython3",
   "version": "3.7.2"
  }
 },
 "nbformat": 4,
 "nbformat_minor": 2
}
